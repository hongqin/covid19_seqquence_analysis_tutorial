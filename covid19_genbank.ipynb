{
  "nbformat": 4,
  "nbformat_minor": 0,
  "metadata": {
    "colab": {
      "name": "covid19-genbank.ipynb",
      "provenance": [],
      "collapsed_sections": [],
      "authorship_tag": "ABX9TyNEqvOPeHkAg5j1FD6nP5ys",
      "include_colab_link": true
    },
    "kernelspec": {
      "name": "python3",
      "display_name": "Python 3"
    }
  },
  "cells": [
    {
      "cell_type": "markdown",
      "metadata": {
        "id": "view-in-github",
        "colab_type": "text"
      },
      "source": [
        "<a href=\"https://colab.research.google.com/github/hongqin/covid19_sequence_analysis_tutorial/blob/master/covid19_genbank.ipynb\" target=\"_parent\"><img src=\"https://colab.research.google.com/assets/colab-badge.svg\" alt=\"Open In Colab\"/></a>"
      ]
    },
    {
      "cell_type": "markdown",
      "metadata": {
        "id": "KH4u5KvNPV8J",
        "colab_type": "text"
      },
      "source": [
        "reference :\n",
        "\n",
        "https://colab.research.google.com/github/chris-rands/biopython-coronavirus/blob/master/biopython-coronavirus-notebook.ipynb#scrollTo=l12U0dJcKXL5\n",
        "\n",
        "https://www.ncbi.nlm.nih.gov/nuccore/1798174254\n"
      ]
    },
    {
      "cell_type": "code",
      "metadata": {
        "id": "VlAui8cuR-52",
        "colab_type": "code",
        "colab": {}
      },
      "source": [
        ""
      ],
      "execution_count": 42,
      "outputs": []
    },
    {
      "cell_type": "code",
      "metadata": {
        "id": "3l95IGpGKino",
        "colab_type": "code",
        "colab": {
          "base_uri": "https://localhost:8080/",
          "height": 52
        },
        "outputId": "7ce584bf-156e-4f1d-9620-5a0c961e5ab1"
      },
      "source": [
        " !pip install biopython"
      ],
      "execution_count": 43,
      "outputs": [
        {
          "output_type": "stream",
          "text": [
            "Requirement already satisfied: biopython in /usr/local/lib/python3.6/dist-packages (1.77)\n",
            "Requirement already satisfied: numpy in /usr/local/lib/python3.6/dist-packages (from biopython) (1.18.5)\n"
          ],
          "name": "stdout"
        }
      ]
    },
    {
      "cell_type": "code",
      "metadata": {
        "id": "C1u0B-tuKEQs",
        "colab_type": "code",
        "colab": {}
      },
      "source": [
        "import Bio\n",
        "from Bio import SeqIO, SearchIO, Entrez\n",
        "from Bio.Seq import Seq\n",
        "from Bio.SeqUtils import GC\n",
        "from Bio.Blast import NCBIWWW\n",
        "from Bio.Data import CodonTable\n"
      ],
      "execution_count": 44,
      "outputs": []
    },
    {
      "cell_type": "code",
      "metadata": {
        "id": "GvMHrOfINYNu",
        "colab_type": "code",
        "colab": {
          "base_uri": "https://localhost:8080/",
          "height": 35
        },
        "outputId": "3ff3b510-f1a8-4161-f693-db285c204de7"
      },
      "source": [
        "from google.colab import drive\n",
        "drive.mount('/content/drive')"
      ],
      "execution_count": 45,
      "outputs": [
        {
          "output_type": "stream",
          "text": [
            "Drive already mounted at /content/drive; to attempt to forcibly remount, call drive.mount(\"/content/drive\", force_remount=True).\n"
          ],
          "name": "stdout"
        }
      ]
    },
    {
      "cell_type": "code",
      "metadata": {
        "id": "MKUZ7rGiMtBq",
        "colab_type": "code",
        "colab": {}
      },
      "source": [
        "gb_file = \"/content/drive/My Drive/tmp/NC_045512.gb\"\n",
        "gb_record = SeqIO.read(open(gb_file,\"r\"), \"genbank\")\n"
      ],
      "execution_count": 46,
      "outputs": []
    },
    {
      "cell_type": "code",
      "metadata": {
        "id": "rX67w2jbOO3-",
        "colab_type": "code",
        "colab": {
          "base_uri": "https://localhost:8080/",
          "height": 35
        },
        "outputId": "392d15a0-3d26-4363-be30-39c27489123a"
      },
      "source": [
        "print (gb_record.name, len(gb_record.features))"
      ],
      "execution_count": 47,
      "outputs": [
        {
          "output_type": "stream",
          "text": [
            "NC_045512 57\n"
          ],
          "name": "stdout"
        }
      ]
    },
    {
      "cell_type": "code",
      "metadata": {
        "id": "fcm11rAMSAiV",
        "colab_type": "code",
        "colab": {
          "base_uri": "https://localhost:8080/",
          "height": 35
        },
        "outputId": "31fbbb71-3173-4b1d-e553-6ada6354467b"
      },
      "source": [
        "{feature.type for feature in gb_record.features}"
      ],
      "execution_count": 48,
      "outputs": [
        {
          "output_type": "execute_result",
          "data": {
            "text/plain": [
              "{\"3'UTR\", \"5'UTR\", 'CDS', 'gene', 'mat_peptide', 'source', 'stem_loop'}"
            ]
          },
          "metadata": {
            "tags": []
          },
          "execution_count": 48
        }
      ]
    },
    {
      "cell_type": "code",
      "metadata": {
        "id": "-H2AEQlTSSYg",
        "colab_type": "code",
        "colab": {
          "base_uri": "https://localhost:8080/",
          "height": 35
        },
        "outputId": "d0055bfd-65d2-4771-898a-b253c388da0d"
      },
      "source": [
        "CDSs = [feature for feature in gb_record.features if feature.type == \"CDS\"]\n",
        "len(CDSs)"
      ],
      "execution_count": 49,
      "outputs": [
        {
          "output_type": "execute_result",
          "data": {
            "text/plain": [
              "12"
            ]
          },
          "metadata": {
            "tags": []
          },
          "execution_count": 49
        }
      ]
    },
    {
      "cell_type": "code",
      "metadata": {
        "id": "Mioafc4JS9hp",
        "colab_type": "code",
        "colab": {
          "base_uri": "https://localhost:8080/",
          "height": 35
        },
        "outputId": "23652f83-0378-4528-ba03-97907f5d612c"
      },
      "source": [
        "CDSs[0].qualifiers[\"gene\"]"
      ],
      "execution_count": 50,
      "outputs": [
        {
          "output_type": "execute_result",
          "data": {
            "text/plain": [
              "['ORF1ab']"
            ]
          },
          "metadata": {
            "tags": []
          },
          "execution_count": 50
        }
      ]
    },
    {
      "cell_type": "code",
      "metadata": {
        "id": "ZYTLKzBHTx7r",
        "colab_type": "code",
        "colab": {
          "base_uri": "https://localhost:8080/",
          "height": 225
        },
        "outputId": "1d74580c-c619-40dd-cbac-598ee511e829"
      },
      "source": [
        "for i in range(12):\n",
        "  print( CDSs[i].qualifiers[\"gene\"])"
      ],
      "execution_count": 51,
      "outputs": [
        {
          "output_type": "stream",
          "text": [
            "['ORF1ab']\n",
            "['ORF1ab']\n",
            "['S']\n",
            "['ORF3a']\n",
            "['E']\n",
            "['M']\n",
            "['ORF6']\n",
            "['ORF7a']\n",
            "['ORF7b']\n",
            "['ORF8']\n",
            "['N']\n",
            "['ORF10']\n"
          ],
          "name": "stdout"
        }
      ]
    },
    {
      "cell_type": "code",
      "metadata": {
        "id": "BxOCzYAETDCm",
        "colab_type": "code",
        "colab": {
          "base_uri": "https://localhost:8080/",
          "height": 35
        },
        "outputId": "fdfdbe8a-e8c7-4e71-8382-0ee2da8a3b85"
      },
      "source": [
        "protein_seq = Seq(CDSs[0].qualifiers[\"translation\"][0])\n",
        "protein_seq"
      ],
      "execution_count": 52,
      "outputs": [
        {
          "output_type": "execute_result",
          "data": {
            "text/plain": [
              "Seq('MESLVPGFNEKTHVQLSLPVLQVRDVLVRGFGDSVEEVLSEARQHLKDGTCGLV...VNN')"
            ]
          },
          "metadata": {
            "tags": []
          },
          "execution_count": 52
        }
      ]
    },
    {
      "cell_type": "code",
      "metadata": {
        "id": "VZaYdARmTeLv",
        "colab_type": "code",
        "colab": {
          "base_uri": "https://localhost:8080/",
          "height": 52
        },
        "outputId": "fe6eef42-7715-4f0b-fc1b-287c64f3a206"
      },
      "source": [
        "print(\"Does the sequence begin with a start codon?\\n\",\n",
        "      protein_seq.startswith(\"M\"))"
      ],
      "execution_count": 53,
      "outputs": [
        {
          "output_type": "stream",
          "text": [
            "Does the sequence begin with a start codon?\n",
            " True\n"
          ],
          "name": "stdout"
        }
      ]
    },
    {
      "cell_type": "code",
      "metadata": {
        "id": "h6cRJ2p2U0tV",
        "colab_type": "code",
        "colab": {
          "base_uri": "https://localhost:8080/",
          "height": 35
        },
        "outputId": "73d2684c-06ed-4a3a-f9a9-0b9eb06e2df6"
      },
      "source": [
        "mat_peptides = [feature for feature in gb_record.features if feature.type == \"mat_peptide\"]\n",
        "len(mat_peptides)"
      ],
      "execution_count": 54,
      "outputs": [
        {
          "output_type": "execute_result",
          "data": {
            "text/plain": [
              "26"
            ]
          },
          "metadata": {
            "tags": []
          },
          "execution_count": 54
        }
      ]
    },
    {
      "cell_type": "code",
      "metadata": {
        "id": "Im6zP4SvVbYY",
        "colab_type": "code",
        "colab": {
          "base_uri": "https://localhost:8080/",
          "height": 35
        },
        "outputId": "4723391d-23f5-402e-f4be-56fa456ad28a"
      },
      "source": [
        "type(mat_peptides[0])"
      ],
      "execution_count": 55,
      "outputs": [
        {
          "output_type": "execute_result",
          "data": {
            "text/plain": [
              "Bio.SeqFeature.SeqFeature"
            ]
          },
          "metadata": {
            "tags": []
          },
          "execution_count": 55
        }
      ]
    },
    {
      "cell_type": "code",
      "metadata": {
        "id": "jGINjIjXVnEb",
        "colab_type": "code",
        "colab": {
          "base_uri": "https://localhost:8080/",
          "height": 881
        },
        "outputId": "1372d6ea-7b89-4f1e-a1fe-e2525ad1613c"
      },
      "source": [
        "dir(mat_peptides[0])"
      ],
      "execution_count": 56,
      "outputs": [
        {
          "output_type": "execute_result",
          "data": {
            "text/plain": [
              "['__bool__',\n",
              " '__class__',\n",
              " '__contains__',\n",
              " '__delattr__',\n",
              " '__dict__',\n",
              " '__dir__',\n",
              " '__doc__',\n",
              " '__eq__',\n",
              " '__format__',\n",
              " '__ge__',\n",
              " '__getattribute__',\n",
              " '__gt__',\n",
              " '__hash__',\n",
              " '__init__',\n",
              " '__init_subclass__',\n",
              " '__iter__',\n",
              " '__le__',\n",
              " '__len__',\n",
              " '__lt__',\n",
              " '__module__',\n",
              " '__ne__',\n",
              " '__new__',\n",
              " '__reduce__',\n",
              " '__reduce_ex__',\n",
              " '__repr__',\n",
              " '__setattr__',\n",
              " '__sizeof__',\n",
              " '__str__',\n",
              " '__subclasshook__',\n",
              " '__weakref__',\n",
              " '_flip',\n",
              " '_get_location_operator',\n",
              " '_get_ref',\n",
              " '_get_ref_db',\n",
              " '_get_strand',\n",
              " '_set_location_operator',\n",
              " '_set_ref',\n",
              " '_set_ref_db',\n",
              " '_set_strand',\n",
              " '_shift',\n",
              " 'extract',\n",
              " 'id',\n",
              " 'location',\n",
              " 'location_operator',\n",
              " 'qualifiers',\n",
              " 'ref',\n",
              " 'ref_db',\n",
              " 'strand',\n",
              " 'translate',\n",
              " 'type']"
            ]
          },
          "metadata": {
            "tags": []
          },
          "execution_count": 56
        }
      ]
    },
    {
      "cell_type": "code",
      "metadata": {
        "id": "kcb1EDkIVGgX",
        "colab_type": "code",
        "colab": {
          "base_uri": "https://localhost:8080/",
          "height": 466
        },
        "outputId": "50c788bf-ffac-4a3d-80c5-d36f09c979ba"
      },
      "source": [
        "for i in range(26):\n",
        "  print( i,  mat_peptides[i].qualifiers[\"product\"],  mat_peptides[i].location )"
      ],
      "execution_count": 57,
      "outputs": [
        {
          "output_type": "stream",
          "text": [
            "0 ['leader protein'] [265:805](+)\n",
            "1 ['nsp2'] [805:2719](+)\n",
            "2 ['nsp3'] [2719:8554](+)\n",
            "3 ['nsp4'] [8554:10054](+)\n",
            "4 ['3C-like proteinase'] [10054:10972](+)\n",
            "5 ['nsp6'] [10972:11842](+)\n",
            "6 ['nsp7'] [11842:12091](+)\n",
            "7 ['nsp8'] [12091:12685](+)\n",
            "8 ['nsp9'] [12685:13024](+)\n",
            "9 ['nsp10'] [13024:13441](+)\n",
            "10 ['RNA-dependent RNA polymerase'] join{[13441:13468](+), [13467:16236](+)}\n",
            "11 ['helicase'] [16236:18039](+)\n",
            "12 [\"3'-to-5' exonuclease\"] [18039:19620](+)\n",
            "13 ['endoRNAse'] [19620:20658](+)\n",
            "14 [\"2'-O-ribose methyltransferase\"] [20658:21552](+)\n",
            "15 ['leader protein'] [265:805](+)\n",
            "16 ['nsp2'] [805:2719](+)\n",
            "17 ['nsp3'] [2719:8554](+)\n",
            "18 ['nsp4'] [8554:10054](+)\n",
            "19 ['3C-like proteinase'] [10054:10972](+)\n",
            "20 ['nsp6'] [10972:11842](+)\n",
            "21 ['nsp7'] [11842:12091](+)\n",
            "22 ['nsp8'] [12091:12685](+)\n",
            "23 ['nsp9'] [12685:13024](+)\n",
            "24 ['nsp10'] [13024:13441](+)\n",
            "25 ['nsp11'] [13441:13480](+)\n"
          ],
          "name": "stdout"
        }
      ]
    }
  ]
}